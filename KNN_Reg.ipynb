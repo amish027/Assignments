{
 "cells": [
  {
   "cell_type": "code",
   "execution_count": 1,
   "id": "8a4b4622",
   "metadata": {},
   "outputs": [],
   "source": [
    "# Importing all the modules \n",
    "import pandas as pd\n",
    "import seaborn as sns\n",
    "import matplotlib.pyplot as plt\n",
    "from sklearn.linear_model import LinearRegression\n",
    "from sklearn.model_selection import  train_test_split\n",
    "from sklearn.metrics import r2_score,mean_squared_error\n",
    "from sklearn.neighbors import KNeighborsRegressor\n",
    "from math import sqrt\n",
    "import joblib"
   ]
  },
  {
   "cell_type": "code",
   "execution_count": 2,
   "id": "769249b4",
   "metadata": {},
   "outputs": [
    {
     "data": {
      "text/html": [
       "<div>\n",
       "<style scoped>\n",
       "    .dataframe tbody tr th:only-of-type {\n",
       "        vertical-align: middle;\n",
       "    }\n",
       "\n",
       "    .dataframe tbody tr th {\n",
       "        vertical-align: top;\n",
       "    }\n",
       "\n",
       "    .dataframe thead th {\n",
       "        text-align: right;\n",
       "    }\n",
       "</style>\n",
       "<table border=\"1\" class=\"dataframe\">\n",
       "  <thead>\n",
       "    <tr style=\"text-align: right;\">\n",
       "      <th></th>\n",
       "      <th>surface</th>\n",
       "      <th>rooms_new</th>\n",
       "      <th>zipcode_new</th>\n",
       "      <th>price_new</th>\n",
       "      <th>latitude</th>\n",
       "      <th>longitude</th>\n",
       "    </tr>\n",
       "  </thead>\n",
       "  <tbody>\n",
       "    <tr>\n",
       "      <th>0</th>\n",
       "      <td>138.0</td>\n",
       "      <td>4.0</td>\n",
       "      <td>1060</td>\n",
       "      <td>420000</td>\n",
       "      <td>40.804673</td>\n",
       "      <td>-73.963420</td>\n",
       "    </tr>\n",
       "    <tr>\n",
       "      <th>1</th>\n",
       "      <td>130.0</td>\n",
       "      <td>5.0</td>\n",
       "      <td>1087</td>\n",
       "      <td>550000</td>\n",
       "      <td>52.355590</td>\n",
       "      <td>5.000561</td>\n",
       "    </tr>\n",
       "    <tr>\n",
       "      <th>2</th>\n",
       "      <td>116.0</td>\n",
       "      <td>5.0</td>\n",
       "      <td>1061</td>\n",
       "      <td>425000</td>\n",
       "      <td>52.373044</td>\n",
       "      <td>4.837568</td>\n",
       "    </tr>\n",
       "    <tr>\n",
       "      <th>3</th>\n",
       "      <td>92.0</td>\n",
       "      <td>5.0</td>\n",
       "      <td>1035</td>\n",
       "      <td>349511</td>\n",
       "      <td>52.416895</td>\n",
       "      <td>4.906767</td>\n",
       "    </tr>\n",
       "    <tr>\n",
       "      <th>4</th>\n",
       "      <td>127.0</td>\n",
       "      <td>4.0</td>\n",
       "      <td>1013</td>\n",
       "      <td>1050000</td>\n",
       "      <td>52.396789</td>\n",
       "      <td>4.876607</td>\n",
       "    </tr>\n",
       "  </tbody>\n",
       "</table>\n",
       "</div>"
      ],
      "text/plain": [
       "   surface  rooms_new  zipcode_new price_new   latitude  longitude\n",
       "0    138.0        4.0         1060    420000  40.804673 -73.963420\n",
       "1    130.0        5.0         1087    550000  52.355590   5.000561\n",
       "2    116.0        5.0         1061    425000  52.373044   4.837568\n",
       "3     92.0        5.0         1035    349511  52.416895   4.906767\n",
       "4    127.0        4.0         1013   1050000  52.396789   4.876607"
      ]
     },
     "execution_count": 2,
     "metadata": {},
     "output_type": "execute_result"
    }
   ],
   "source": [
    "#Reading Data\n",
    "url=\"C:/Users/mohda/OneDrive/Desktop/Batch 94/10 March/Assignments/test/Data.csv\"\n",
    "data=pd.read_csv(url)\n",
    "data.head()"
   ]
  },
  {
   "cell_type": "code",
   "execution_count": 3,
   "id": "1a93bb13",
   "metadata": {},
   "outputs": [
    {
     "name": "stdout",
     "output_type": "stream",
     "text": [
      "The number of rows & columns- (2187, 6)\n"
     ]
    }
   ],
   "source": [
    "#Preprocessing of data\n",
    "print('The number of rows & columns-',data.shape)"
   ]
  },
  {
   "cell_type": "code",
   "execution_count": 4,
   "id": "ee85a033",
   "metadata": {},
   "outputs": [
    {
     "name": "stdout",
     "output_type": "stream",
     "text": [
      "The null value in data-\n",
      " surface         0\n",
      "rooms_new      28\n",
      "zipcode_new     0\n",
      "price_new       1\n",
      "latitude        0\n",
      "longitude       0\n",
      "dtype: int64\n"
     ]
    }
   ],
   "source": [
    "print('The null value in data-\\n',data.isnull().sum())"
   ]
  },
  {
   "cell_type": "code",
   "execution_count": 5,
   "id": "d2f818d0",
   "metadata": {},
   "outputs": [
    {
     "data": {
      "text/html": [
       "<div>\n",
       "<style scoped>\n",
       "    .dataframe tbody tr th:only-of-type {\n",
       "        vertical-align: middle;\n",
       "    }\n",
       "\n",
       "    .dataframe tbody tr th {\n",
       "        vertical-align: top;\n",
       "    }\n",
       "\n",
       "    .dataframe thead th {\n",
       "        text-align: right;\n",
       "    }\n",
       "</style>\n",
       "<table border=\"1\" class=\"dataframe\">\n",
       "  <thead>\n",
       "    <tr style=\"text-align: right;\">\n",
       "      <th></th>\n",
       "      <th>surface</th>\n",
       "      <th>rooms_new</th>\n",
       "      <th>zipcode_new</th>\n",
       "      <th>price_new</th>\n",
       "      <th>latitude</th>\n",
       "      <th>longitude</th>\n",
       "    </tr>\n",
       "  </thead>\n",
       "  <tbody>\n",
       "    <tr>\n",
       "      <th>0</th>\n",
       "      <td>138.0</td>\n",
       "      <td>4.0</td>\n",
       "      <td>1060</td>\n",
       "      <td>420000</td>\n",
       "      <td>40.804673</td>\n",
       "      <td>-73.963420</td>\n",
       "    </tr>\n",
       "    <tr>\n",
       "      <th>1</th>\n",
       "      <td>130.0</td>\n",
       "      <td>5.0</td>\n",
       "      <td>1087</td>\n",
       "      <td>550000</td>\n",
       "      <td>52.355590</td>\n",
       "      <td>5.000561</td>\n",
       "    </tr>\n",
       "    <tr>\n",
       "      <th>2</th>\n",
       "      <td>116.0</td>\n",
       "      <td>5.0</td>\n",
       "      <td>1061</td>\n",
       "      <td>425000</td>\n",
       "      <td>52.373044</td>\n",
       "      <td>4.837568</td>\n",
       "    </tr>\n",
       "    <tr>\n",
       "      <th>3</th>\n",
       "      <td>92.0</td>\n",
       "      <td>5.0</td>\n",
       "      <td>1035</td>\n",
       "      <td>349511</td>\n",
       "      <td>52.416895</td>\n",
       "      <td>4.906767</td>\n",
       "    </tr>\n",
       "    <tr>\n",
       "      <th>4</th>\n",
       "      <td>127.0</td>\n",
       "      <td>4.0</td>\n",
       "      <td>1013</td>\n",
       "      <td>1050000</td>\n",
       "      <td>52.396789</td>\n",
       "      <td>4.876607</td>\n",
       "    </tr>\n",
       "  </tbody>\n",
       "</table>\n",
       "</div>"
      ],
      "text/plain": [
       "   surface  rooms_new  zipcode_new price_new   latitude  longitude\n",
       "0    138.0        4.0         1060    420000  40.804673 -73.963420\n",
       "1    130.0        5.0         1087    550000  52.355590   5.000561\n",
       "2    116.0        5.0         1061    425000  52.373044   4.837568\n",
       "3     92.0        5.0         1035    349511  52.416895   4.906767\n",
       "4    127.0        4.0         1013   1050000  52.396789   4.876607"
      ]
     },
     "execution_count": 5,
     "metadata": {},
     "output_type": "execute_result"
    }
   ],
   "source": [
    "#copy of original data\n",
    "df=data.copy()\n",
    "df.head()"
   ]
  },
  {
   "cell_type": "code",
   "execution_count": 6,
   "id": "8dd400ea",
   "metadata": {},
   "outputs": [
    {
     "name": "stdout",
     "output_type": "stream",
     "text": [
      "The type of columns in data-\n",
      " surface        float64\n",
      "rooms_new      float64\n",
      "zipcode_new      int64\n",
      "price_new       object\n",
      "latitude       float64\n",
      "longitude      float64\n",
      "dtype: object\n"
     ]
    }
   ],
   "source": [
    "#Checking type of columns\n",
    "print('The type of columns in data-\\n', df.dtypes)"
   ]
  },
  {
   "cell_type": "code",
   "execution_count": 7,
   "id": "3f6aef84",
   "metadata": {},
   "outputs": [],
   "source": [
    "#changing of columns type of price_new from object to float64\n",
    "\n",
    "df['price_new'] = pd.to_numeric(df['price_new'], errors='coerce')\n"
   ]
  },
  {
   "cell_type": "code",
   "execution_count": null,
   "id": "ef30550a",
   "metadata": {},
   "outputs": [],
   "source": []
  },
  {
   "cell_type": "code",
   "execution_count": 8,
   "id": "d4a2e0ab",
   "metadata": {},
   "outputs": [],
   "source": [
    "#permenantly drop the null values from the data \n",
    "df.isnull().sum()\n",
    "df=df.dropna()"
   ]
  },
  {
   "cell_type": "code",
   "execution_count": 9,
   "id": "07a20b3c",
   "metadata": {
    "scrolled": true
   },
   "outputs": [
    {
     "data": {
      "text/plain": [
       "surface        0\n",
       "rooms_new      0\n",
       "zipcode_new    0\n",
       "price_new      0\n",
       "latitude       0\n",
       "longitude      0\n",
       "dtype: int64"
      ]
     },
     "execution_count": 9,
     "metadata": {},
     "output_type": "execute_result"
    }
   ],
   "source": [
    "#After dropping the null value again checking the null values \n",
    "df.isnull().sum()"
   ]
  },
  {
   "cell_type": "code",
   "execution_count": 10,
   "id": "6b3f9b1d",
   "metadata": {},
   "outputs": [],
   "source": [
    "#Droppping the NaN value\n",
    "df.dropna(inplace=True)"
   ]
  },
  {
   "cell_type": "markdown",
   "id": "05869bf1",
   "metadata": {},
   "source": [
    "# Multiple Linear Regression"
   ]
  },
  {
   "cell_type": "code",
   "execution_count": 11,
   "id": "5ce9cc91",
   "metadata": {},
   "outputs": [],
   "source": [
    "#The latitude & longitude is not important to predict the value of house for the loctation we take zipcode\n",
    "\n",
    "y=df['price_new']                        #Prediction variable \n",
    "x=df[['surface','rooms_new','zipcode_new',]] #dependent to do prediction"
   ]
  },
  {
   "cell_type": "code",
   "execution_count": 12,
   "id": "0fc1f166",
   "metadata": {
    "scrolled": true
   },
   "outputs": [
    {
     "data": {
      "text/html": [
       "<div>\n",
       "<style scoped>\n",
       "    .dataframe tbody tr th:only-of-type {\n",
       "        vertical-align: middle;\n",
       "    }\n",
       "\n",
       "    .dataframe tbody tr th {\n",
       "        vertical-align: top;\n",
       "    }\n",
       "\n",
       "    .dataframe thead th {\n",
       "        text-align: right;\n",
       "    }\n",
       "</style>\n",
       "<table border=\"1\" class=\"dataframe\">\n",
       "  <thead>\n",
       "    <tr style=\"text-align: right;\">\n",
       "      <th></th>\n",
       "      <th>surface</th>\n",
       "      <th>rooms_new</th>\n",
       "      <th>zipcode_new</th>\n",
       "    </tr>\n",
       "  </thead>\n",
       "  <tbody>\n",
       "    <tr>\n",
       "      <th>count</th>\n",
       "      <td>2154.000000</td>\n",
       "      <td>2154.000000</td>\n",
       "      <td>2154.000000</td>\n",
       "    </tr>\n",
       "    <tr>\n",
       "      <th>mean</th>\n",
       "      <td>108.718199</td>\n",
       "      <td>3.662024</td>\n",
       "      <td>1057.665274</td>\n",
       "    </tr>\n",
       "    <tr>\n",
       "      <th>std</th>\n",
       "      <td>69.487969</td>\n",
       "      <td>1.556783</td>\n",
       "      <td>29.065517</td>\n",
       "    </tr>\n",
       "    <tr>\n",
       "      <th>min</th>\n",
       "      <td>10.000000</td>\n",
       "      <td>0.000000</td>\n",
       "      <td>1011.000000</td>\n",
       "    </tr>\n",
       "    <tr>\n",
       "      <th>25%</th>\n",
       "      <td>65.000000</td>\n",
       "      <td>3.000000</td>\n",
       "      <td>1025.000000</td>\n",
       "    </tr>\n",
       "    <tr>\n",
       "      <th>50%</th>\n",
       "      <td>92.000000</td>\n",
       "      <td>3.000000</td>\n",
       "      <td>1061.000000</td>\n",
       "    </tr>\n",
       "    <tr>\n",
       "      <th>75%</th>\n",
       "      <td>130.000000</td>\n",
       "      <td>4.000000</td>\n",
       "      <td>1079.000000</td>\n",
       "    </tr>\n",
       "    <tr>\n",
       "      <th>max</th>\n",
       "      <td>690.000000</td>\n",
       "      <td>9.000000</td>\n",
       "      <td>1109.000000</td>\n",
       "    </tr>\n",
       "  </tbody>\n",
       "</table>\n",
       "</div>"
      ],
      "text/plain": [
       "           surface    rooms_new  zipcode_new\n",
       "count  2154.000000  2154.000000  2154.000000\n",
       "mean    108.718199     3.662024  1057.665274\n",
       "std      69.487969     1.556783    29.065517\n",
       "min      10.000000     0.000000  1011.000000\n",
       "25%      65.000000     3.000000  1025.000000\n",
       "50%      92.000000     3.000000  1061.000000\n",
       "75%     130.000000     4.000000  1079.000000\n",
       "max     690.000000     9.000000  1109.000000"
      ]
     },
     "execution_count": 12,
     "metadata": {},
     "output_type": "execute_result"
    }
   ],
   "source": [
    "#It will give all the stats of variable x\n",
    "\n",
    "x.describe()"
   ]
  },
  {
   "cell_type": "code",
   "execution_count": 13,
   "id": "602d623e",
   "metadata": {},
   "outputs": [
    {
     "data": {
      "text/plain": [
       "count    2.154000e+03\n",
       "mean     6.033901e+05\n",
       "std      6.198875e+05\n",
       "min      2.250000e+04\n",
       "25%      2.900000e+05\n",
       "50%      4.000000e+05\n",
       "75%      6.850000e+05\n",
       "max      6.400000e+06\n",
       "Name: price_new, dtype: float64"
      ]
     },
     "execution_count": 13,
     "metadata": {},
     "output_type": "execute_result"
    }
   ],
   "source": [
    "#It will give all the stats of variable y\n",
    "\n",
    "y.describe()"
   ]
  },
  {
   "cell_type": "code",
   "execution_count": 14,
   "id": "01841292",
   "metadata": {},
   "outputs": [
    {
     "name": "stderr",
     "output_type": "stream",
     "text": [
      "C:\\Users\\mohda\\AppData\\Local\\Temp\\ipykernel_3664\\1238530195.py:3: UserWarning: \n",
      "\n",
      "`distplot` is a deprecated function and will be removed in seaborn v0.14.0.\n",
      "\n",
      "Please adapt your code to use either `displot` (a figure-level function with\n",
      "similar flexibility) or `histplot` (an axes-level function for histograms).\n",
      "\n",
      "For a guide to updating your code to use the new functions, please see\n",
      "https://gist.github.com/mwaskom/de44147ed2974457ad6372750bbe5751\n",
      "\n",
      "  sns.distplot(x)\n"
     ]
    },
    {
     "name": "stdout",
     "output_type": "stream",
     "text": [
      "surface        2.564193\n",
      "rooms_new      0.910310\n",
      "zipcode_new   -0.201527\n",
      "price_new      4.149196\n",
      "latitude      -6.018546\n",
      "longitude     -6.019843\n",
      "dtype: float64\n"
     ]
    },
    {
     "data": {
      "image/png": "[encoded data removed]",
      "text/plain": [
       "<Figure size 640x480 with 1 Axes>"
      ]
     },
     "metadata": {},
     "output_type": "display_data"
    }
   ],
   "source": [
    "# Explotatory Data Analysis\n",
    "\n",
    "sns.distplot(x)\n",
    "print(df.skew())"
   ]
  },
  {
   "cell_type": "code",
   "execution_count": 15,
   "id": "6e9a3cee",
   "metadata": {
    "scrolled": true
   },
   "outputs": [
    {
     "name": "stderr",
     "output_type": "stream",
     "text": [
      "C:\\Users\\mohda\\AppData\\Local\\Temp\\ipykernel_3664\\47100933.py:1: UserWarning: \n",
      "\n",
      "`distplot` is a deprecated function and will be removed in seaborn v0.14.0.\n",
      "\n",
      "Please adapt your code to use either `displot` (a figure-level function with\n",
      "similar flexibility) or `histplot` (an axes-level function for histograms).\n",
      "\n",
      "For a guide to updating your code to use the new functions, please see\n",
      "https://gist.github.com/mwaskom/de44147ed2974457ad6372750bbe5751\n",
      "\n",
      "  sns.distplot(x=y)\n"
     ]
    },
    {
     "data": {
      "text/plain": [
       "<Axes: ylabel='Density'>"
      ]
     },
     "execution_count": 15,
     "metadata": {},
     "output_type": "execute_result"
    },
    {
     "data": {
      "image/png": "[encoded data removed]",
      "text/plain": [
       "<Figure size 640x480 with 1 Axes>"
      ]
     },
     "metadata": {},
     "output_type": "display_data"
    }
   ],
   "source": [
    "sns.distplot(x=y)"
   ]
  },
  {
   "cell_type": "code",
   "execution_count": 16,
   "id": "a550e30d",
   "metadata": {},
   "outputs": [
    {
     "data": {
      "text/plain": [
       "<Axes: >"
      ]
     },
     "execution_count": 16,
     "metadata": {},
     "output_type": "execute_result"
    },
    {
     "data": {
      "image/png": "[encoded data removed]",
      "text/plain": [
       "<Figure size 640x480 with 1 Axes>"
      ]
     },
     "metadata": {},
     "output_type": "display_data"
    }
   ],
   "source": [
    "sns.boxplot(data=x)"
   ]
  },
  {
   "cell_type": "code",
   "execution_count": 17,
   "id": "a9436b85",
   "metadata": {},
   "outputs": [
    {
     "data": {
      "text/plain": [
       "<Axes: >"
      ]
     },
     "execution_count": 17,
     "metadata": {},
     "output_type": "execute_result"
    },
    {
     "data": {
      "image/png": "[encoded data removed]",
      "text/plain": [
       "<Figure size 640x480 with 1 Axes>"
      ]
     },
     "metadata": {},
     "output_type": "display_data"
    }
   ],
   "source": [
    "sns.boxplot(data=y)"
   ]
  },
  {
   "cell_type": "code",
   "execution_count": 18,
   "id": "84890cfe",
   "metadata": {},
   "outputs": [],
   "source": [
    "#Sampling of data\n",
    "#80% for training and 20% for testing\n",
    "x_train,x_test,y_train,y_test=train_test_split(x,y,test_size=0.2)"
   ]
  },
  {
   "cell_type": "code",
   "execution_count": 19,
   "id": "9ba59ec0",
   "metadata": {},
   "outputs": [
    {
     "data": {
      "text/plain": [
       "(1723, 3)"
      ]
     },
     "execution_count": 19,
     "metadata": {},
     "output_type": "execute_result"
    }
   ],
   "source": [
    "#total number of columns for training \n",
    "x_train.shape"
   ]
  },
  {
   "cell_type": "code",
   "execution_count": 20,
   "id": "264b7050",
   "metadata": {},
   "outputs": [
    {
     "name": "stdout",
     "output_type": "stream",
     "text": [
      "Model training is completed\n"
     ]
    }
   ],
   "source": [
    "#Modelling of Data\n",
    "model=LinearRegression()\n",
    "model_train=model.fit(x_train,y_train)\n",
    "print('Model training is completed')"
   ]
  },
  {
   "cell_type": "code",
   "execution_count": 21,
   "id": "f140c11e",
   "metadata": {},
   "outputs": [
    {
     "name": "stdout",
     "output_type": "stream",
     "text": [
      "[ 3.64017060e+05  6.41816065e+05  8.18685886e+04  9.92085528e+05\n",
      "  8.22466618e+05  5.66226042e+05  9.75833634e+04  3.98809090e+05\n",
      "  3.42017324e+05  4.94649643e+05  1.79352885e+05  8.35296082e+05\n",
      "  2.56767107e+05  6.50049274e+05  1.65763921e+06  7.52273330e+05\n",
      "  5.59469743e+05  2.78766843e+05  8.63790560e+04  2.54149349e+05\n",
      "  5.42030181e+05  2.81310477e+05  1.02105832e+06  8.09475063e+05\n",
      "  1.16419837e+06  1.71635481e+06  4.92558980e+05  6.09722838e+05\n",
      "  3.78093924e+05  6.09722838e+05  1.55847313e+06  7.88089299e+05\n",
      "  3.58395776e+05  8.50322762e+05  9.68342637e+05  1.39007863e+05\n",
      "  1.73409599e+05  6.70497976e+05  5.84255159e+05  2.01831856e+06\n",
      "  1.21622596e+06  1.06273762e+06  5.93921186e+05  4.81012996e+05\n",
      "  3.16481354e+05  1.42160530e+06  7.28071636e+05  1.56236500e+05\n",
      "  5.07051643e+05  8.38268269e+05  7.62355157e+05  2.76465255e+05\n",
      "  6.87329400e+05  5.19317061e+05  3.51701937e+05  5.65736119e+05\n",
      "  1.84425747e+06  5.30831706e+05  5.34362108e+05  4.38906234e+05\n",
      "  3.95794118e+05  5.63018731e+05  5.07330860e+05  1.19354396e+06\n",
      "  2.02190052e+05  3.35136977e+05  2.46158186e+05  4.58684338e+05\n",
      " -5.26107840e+04  2.18078581e+05  4.12309153e+05  4.40680728e+05\n",
      "  5.63087022e+05  3.05630387e+05  4.97385616e+05  2.94810540e+05\n",
      "  1.16748672e+06  5.16475625e+05  2.91458333e+06  1.26518985e+05\n",
      "  1.34584272e+05  6.57419545e+05  1.35700921e+05  3.72832902e+05\n",
      " -1.51187311e+05  1.92834363e+05  1.85711970e+05  5.39244501e+05\n",
      "  1.17403815e+06  5.07330860e+05  9.21557485e+05  3.95620364e+05\n",
      "  1.29323250e+05  3.90656926e+05  3.97624150e+05  8.25508517e+04\n",
      "  9.19237312e+05  2.14995066e+06  1.40124511e+05  2.48528065e+05\n",
      "  6.56060851e+05  7.44363211e+05  3.63166875e+05  5.14037453e+05\n",
      "  1.11784177e+06  9.04853882e+04  5.86469870e+05  1.27283813e+06\n",
      "  3.50603874e+05  2.10497385e+05  9.62541767e+05  9.06161390e+04\n",
      "  2.50650067e+05  1.64494127e+05  4.35406952e+05  4.61135262e+05\n",
      "  8.04127164e+05  4.61464185e+05  9.84944550e+05  3.09148036e+05\n",
      "  3.17052322e+05  3.59072207e+05  4.58225535e+05  2.31560059e+05\n",
      "  3.79961127e+05  8.58201542e+05  4.60558462e+05  6.69927008e+05\n",
      "  5.39753010e+05  9.33364100e+05  1.43952715e+05  1.49877164e+06\n",
      "  8.53883414e+05  5.01964375e+05  4.74728035e+05  1.49300615e+05\n",
      "  2.93549084e+06  2.15429485e+05  3.46949423e+05  8.81559972e+05\n",
      "  5.69309524e+05  4.03561603e+05  6.08593436e+05  7.01617189e+05\n",
      "  6.11410454e+05  5.56144216e+05  6.40612539e+05  3.21119918e+06\n",
      "  4.44812348e+05  6.56569360e+05  1.85277584e+05  8.37331207e+05\n",
      "  1.44258109e+06  3.65375754e+05  3.71213577e+05  5.23200804e+05\n",
      "  9.75781200e+05  1.93703133e+05  6.67873298e+05  6.30438003e+05\n",
      "  1.17996977e+06  4.46208213e+05  3.99398644e+05  2.33421430e+05\n",
      "  2.10602848e+05  5.34560279e+05  1.16733155e+06  2.28321409e+05\n",
      "  4.49825492e+05  2.81031260e+05  2.04398931e+05  5.19714275e+05\n",
      "  5.68769676e+05  1.94124765e+05  6.73394951e+05  3.92865805e+05\n",
      "  1.08694961e+05  6.99259844e+05  1.21197612e+06  2.42237272e+05\n",
      "  2.48962451e+05  4.94165552e+05  6.98428244e+05  7.05047961e+05\n",
      "  1.19518770e+06  1.40385142e+05  6.42560787e+05  1.25334045e+05\n",
      "  7.24398600e+05  7.52254744e+05  2.26385914e+05  1.13192676e+05\n",
      "  2.75409060e+06  5.19732861e+05  4.02469372e+05  2.17290855e+05\n",
      "  1.76213864e+05  5.50883194e+05  9.29860189e+04  4.12501493e+05\n",
      "  4.87192495e+05  5.62429177e+05  3.34528837e+05  1.94788443e+05\n",
      "  7.12728787e+05  5.82201448e+05  4.70137612e+05  7.48091785e+05\n",
      "  4.24779446e+05  2.60005757e+05  1.10763006e+06  2.16961933e+05\n",
      "  1.06920468e+05  1.54648514e+05  7.76134437e+05  1.29708975e+06\n",
      "  6.69666377e+05  5.76189872e+05  3.21810667e+05  5.96067606e+05\n",
      "  2.81031260e+05  4.49825492e+05  6.99371139e+05  7.83010155e+04\n",
      "  2.06404791e+04  5.81680186e+05  2.11193165e+06  6.80082959e+05\n",
      "  2.52182516e+05  1.25552262e+06  2.82340248e+05  8.51861042e+05\n",
      "  3.40050491e+05  1.16560093e+06  7.67789933e+05  1.84224093e+06\n",
      "  4.74529863e+05  3.94398253e+05  3.06536110e+05  1.89018912e+05\n",
      "  4.82787490e+05  5.96377943e+05  9.44760747e+05  7.22010135e+05\n",
      "  5.62081669e+05  5.01461699e+05  5.11909619e+05  2.88959964e+05\n",
      "  3.71139453e+05  5.57244789e+04  4.16490698e+05  2.86137114e+05\n",
      "  5.36192358e+05  1.87002273e+06  1.89540174e+05  1.45733041e+05\n",
      "  3.98567044e+05  3.37767488e+05  5.24472621e+05  9.75452277e+05\n",
      "  1.26953370e+05  2.85231390e+05  3.04650321e+05  1.09780887e+06\n",
      "  2.04125547e+05  1.38747231e+05 -1.95990802e+04  2.60443630e+06\n",
      "  4.23278336e+05  4.24289522e+05  3.70761200e+06  1.17611044e+06\n",
      "  3.82622977e+05  8.73476099e+05  2.53280579e+05  3.84776819e+06\n",
      "  1.47941920e+05  1.51062355e+05  3.08831866e+05  4.65335393e+05\n",
      "  3.04060768e+05  2.86242576e+05  3.08987035e+05  9.84393807e+04\n",
      "  3.53463677e+05  1.45211779e+05  3.75829507e+05  1.35938459e+06\n",
      "  8.44521892e+05  7.46838554e+05  9.87638924e+03  3.61628595e+05\n",
      "  2.51245454e+05  1.07795070e+05  4.56724425e+05  1.45733041e+05\n",
      "  9.32663251e+05  4.26665234e+05  2.36660080e+05  1.65760112e+05\n",
      "  7.63540096e+05  2.01160281e+05  1.02018372e+06  7.30180884e+05\n",
      "  7.11246045e+05  9.30728960e+04  8.66455194e+04  2.06508180e+05\n",
      "  1.90604380e+06  3.93126436e+05  1.39354428e+06  3.37345856e+05\n",
      "  5.91532720e+05  3.57784533e+04  3.57297714e+05  2.00465265e+05\n",
      "  3.16704814e+05  3.97797904e+05  4.20963995e+05  6.69474037e+05\n",
      "  3.96091702e+05  5.09024309e+05  8.30804201e+05  8.83942605e+05\n",
      "  1.37388537e+05  1.60504922e+05  1.43585591e+06  9.43574662e+04\n",
      "  3.37941242e+05  6.18693848e+05  2.15342608e+05  2.34462145e+06\n",
      "  3.45066363e+04  7.81203119e+05 -2.49469794e+04  6.17266863e+05\n",
      "  5.24714666e+05  5.52986610e+05  3.17405662e+05  5.54016381e+05\n",
      "  5.17257518e+05  5.05779826e+05  2.60688020e+05  3.95756947e+05\n",
      "  4.29984929e+05  4.02289786e+05  5.05116149e+05  4.48050999e+05\n",
      "  1.92399977e+05  3.98368872e+05  7.32463887e+05  5.80116617e+05\n",
      "  1.34309301e+06  1.16055084e+06  3.20259634e+05  2.87514393e+05\n",
      "  6.05522707e+05  1.00040120e+05  1.50913852e+06  6.98930921e+05\n",
      "  3.29180938e+05  5.15203808e+05  1.26605742e+06  4.20387194e+05\n",
      "  1.43952715e+05  5.73801406e+05  5.92965538e+05  8.76981213e+05\n",
      "  9.75383985e+05  3.79105110e+05  7.75594589e+05  2.40128023e+05\n",
      "  7.64408867e+05  2.17571275e+04  9.57646839e+05  3.14843443e+05\n",
      "  4.27844342e+05  4.22062057e+05  3.09948515e+05  5.30676537e+05\n",
      "  3.04321399e+05  4.32199641e+05  2.38787915e+05  1.01170263e+06\n",
      "  4.40996897e+05  1.45311409e+05  5.02485638e+05  1.46061964e+05\n",
      "  5.24472621e+05  4.59968908e+05  2.68753308e+05  1.01034394e+06\n",
      "  4.49825492e+05  3.60604656e+05  3.82362346e+05  6.67259326e+05\n",
      "  1.60573213e+05  2.00570727e+05  1.74997586e+05  6.98074904e+05\n",
      "  3.05084707e+05  5.41051537e+04  2.95992875e+06  6.89766645e+04\n",
      "  6.34079700e+05  9.02374768e+05  1.30980792e+06  7.04123652e+05\n",
      "  8.41499999e+05  1.42649560e+05  3.73341411e+05  3.54922001e+05\n",
      "  9.15595615e+05  5.47130202e+05  6.50954997e+05  6.82055624e+05\n",
      "  9.62060838e+04  1.29579935e+06  1.45559287e+05  8.32752448e+05\n",
      "  4.35946800e+05  7.88281638e+05  2.30375119e+05  3.58674993e+05\n",
      "  6.25332150e+05 -3.71055130e+03  1.04158807e+06  8.13135346e+05\n",
      "  4.24382231e+05  4.63102096e+05  3.60865287e+05]\n"
     ]
    }
   ],
   "source": [
    "#Validate Data\n",
    "predic=model.predict(x_test)\n",
    "print(predic)"
   ]
  },
  {
   "cell_type": "code",
   "execution_count": 22,
   "id": "a51d0e06",
   "metadata": {},
   "outputs": [
    {
     "data": {
      "text/plain": [
       "0.7199912969596012"
      ]
     },
     "execution_count": 22,
     "metadata": {},
     "output_type": "execute_result"
    }
   ],
   "source": [
    "#Check the accuracy\n",
    "r2_score(predic,y_test)"
   ]
  },
  {
   "cell_type": "code",
   "execution_count": 23,
   "id": "5a89a8cc",
   "metadata": {},
   "outputs": [],
   "source": [
    "#The prediction from the Multiple Regression is around 60%"
   ]
  },
  {
   "cell_type": "code",
   "execution_count": 24,
   "id": "1bd3afdf",
   "metadata": {},
   "outputs": [
    {
     "data": {
      "text/plain": [
       "76678100540.30022"
      ]
     },
     "execution_count": 24,
     "metadata": {},
     "output_type": "execute_result"
    }
   ],
   "source": [
    "mean_squared_error(predic,y_test)"
   ]
  },
  {
   "cell_type": "code",
   "execution_count": 25,
   "id": "5548a714",
   "metadata": {},
   "outputs": [
    {
     "data": {
      "text/plain": [
       "276908.10847698234"
      ]
     },
     "execution_count": 25,
     "metadata": {},
     "output_type": "execute_result"
    }
   ],
   "source": [
    "sqrt(mean_squared_error(predic,y_test))"
   ]
  },
  {
   "cell_type": "code",
   "execution_count": 26,
   "id": "1f75d49e",
   "metadata": {},
   "outputs": [],
   "source": [
    "#raw data\n"
   ]
  },
  {
   "cell_type": "markdown",
   "id": "b2fc8326",
   "metadata": {},
   "source": [
    "# KNN Regressor"
   ]
  },
  {
   "cell_type": "code",
   "execution_count": 27,
   "id": "d2f759aa",
   "metadata": {},
   "outputs": [
    {
     "name": "stdout",
     "output_type": "stream",
     "text": [
      "[0.0, 0.07, 0.12, 0.15, 0.15, 0.16, 0.16, 0.17, 0.17]\n"
     ]
    }
   ],
   "source": [
    "#how to choose the value of k\n",
    "error=[]\n",
    "k=[]\n",
    "for i in range(1,10):\n",
    "    model= KNeighborsRegressor(n_neighbors=i)  #by default it is 5\n",
    "    model_train=model.fit(x_train,y_train)\n",
    "    er=round(1-model_train.score(x_train,y_train),2)\n",
    "    error.append(er)\n",
    "    k.append(i)\n",
    "print(error)    "
   ]
  },
  {
   "cell_type": "code",
   "execution_count": 28,
   "id": "ddb4ca3f",
   "metadata": {},
   "outputs": [
    {
     "data": {
      "text/plain": [
       "<Axes: xlabel='k', ylabel='error'>"
      ]
     },
     "execution_count": 28,
     "metadata": {},
     "output_type": "execute_result"
    },
    {
     "data": {
      "image/png": "[encoded data removed]",
      "text/plain": [
       "<Figure size 640x480 with 1 Axes>"
      ]
     },
     "metadata": {},
     "output_type": "display_data"
    }
   ],
   "source": [
    "#using the elbow method finding the best k value\n",
    "ds = pd.DataFrame({'k': k, 'error': error})\n",
    "sns.lineplot(x='k',y='error',data=ds)"
   ]
  },
  {
   "cell_type": "code",
   "execution_count": 29,
   "id": "44ed5dfb",
   "metadata": {},
   "outputs": [
    {
     "name": "stdout",
     "output_type": "stream",
     "text": [
      "Model training is completed\n"
     ]
    }
   ],
   "source": [
    "#Modelling of Data\n",
    "#Best k value is 2\n",
    "model= KNeighborsRegressor(n_neighbors=2) \n",
    "model_train=model.fit(x_train,y_train)\n",
    "print('Model training is completed')"
   ]
  },
  {
   "cell_type": "code",
   "execution_count": 30,
   "id": "07c0d955",
   "metadata": {},
   "outputs": [
    {
     "data": {
      "text/plain": [
       "array([ 294750. ,  681250. ,  218750. ,  947500. , 1102500. ,  557500. ,\n",
       "        190594.5,  230000. ,  425000. ,  528095. ,  309500. ,  627000. ,\n",
       "        362500. ,  537500. , 2472500. ,  392000. ,  409250. ,  392250. ,\n",
       "        247500. ,  325000. ,  547000. ,  202500. ,  530000. ,  712000. ,\n",
       "       1026903. , 1567500. ,  345000. ,  617000. ,  187500. ,  617000. ,\n",
       "       1512500. , 1037500. ,  224000. ,  795000. , 1022500. ,  261000. ,\n",
       "        192500. ,  462000. ,  655000. , 2747500. , 1945000. , 1037500. ,\n",
       "        635000. ,  267000. ,  322500. , 1122500. ,  860000. ,  312500. ,\n",
       "        482500. ,  862500. ,  387000. ,  312500. ,  542500. ,  324750. ,\n",
       "        297500. ,  487500. , 2600000. ,  537500. ,  342250. ,  199500. ,\n",
       "        420000. ,  622000. ,  332500. , 1237500. ,  267000. ,  249400. ,\n",
       "        290000. ,  215000. ,  124000. ,  312500. ,  512500. ,  562500. ,\n",
       "        350000. ,  399250. ,  372000. ,  222500. , 1409403. ,  622500. ,\n",
       "       2750000. ,  141250. ,  140500. ,  349250. ,  282500. ,  379000. ,\n",
       "        187500. ,  322500. ,  353250. ,  462500. ,  862500. ,  332500. ,\n",
       "        985000. ,  262500. ,  247500. ,  244250. ,  390000. ,  241250. ,\n",
       "        627000. , 2747500. ,  324500. ,  162500. ,  404000. , 1250000. ,\n",
       "        387500. ,  375000. , 1167500. ,  300000. ,  412500. , 1297500. ,\n",
       "        464500. ,  300000. ,  442500. ,  241250. ,  230000. ,  269750. ,\n",
       "        362500. ,  277500. ,  762000. ,  315000. ,  737817.5,  287500. ,\n",
       "        182500. ,  319500. ,  235000. ,  262500. ,  214500. ,  523929. ,\n",
       "        635000. ,  865000. ,  525000. ,  822500. ,  297000. ,  768250. ,\n",
       "        439679. ,  537500. ,  322250. ,  317000. , 2750000. ,  196250. ,\n",
       "        265000. ,  542500. ,  262500. ,  694500. ,  702409. ,  900000. ,\n",
       "        655000. ,  675000. ,  612000. , 6400000. ,  230000. ,  307000. ,\n",
       "        185000. ,  385000. , 1107500. ,  399250. ,  437500. ,  569500. ,\n",
       "        704500. ,  297500. ,  535000. ,  999500. , 1187500. ,  487000. ,\n",
       "        487500. ,  292500. ,  260000. ,  215000. ,  862500. ,  177250. ,\n",
       "        402500. ,  171000. ,  319500. ,  332500. ,  662500. ,  282000. ,\n",
       "        612000. ,  247000. ,  197500. ,  952500. ,  862500. ,  325000. ,\n",
       "        424000. ,  409500. ,  450000. ,  804144.5,  942500. ,  320000. ,\n",
       "        574000. ,  272500. ,  706250. ,  485000. ,  266500. ,  232000. ,\n",
       "       4575000. ,  412500. ,  251250. ,  347500. ,  309000. ,  317000. ,\n",
       "        247500. ,  367000. ,  562500. ,  372500. ,  240000. ,  155000. ,\n",
       "        812000. ,  487500. ,  199500. ,  789697. ,  452500. ,  338500. ,\n",
       "       1562500. ,  284500. ,  165594.5,  309500. ,  900000. , 1213204. ,\n",
       "        399400. ,  655000. ,  385000. ,  624500. ,  171000. ,  402500. ,\n",
       "        637500. ,  237000. ,  202000. ,  520000. , 2100000. ,  886500. ,\n",
       "        249500. , 2187500. ,  192250. ,  742500. ,  375000. , 1179500. ,\n",
       "        775000. , 1999500. ,  445000. ,  350000. ,  245000. ,  312500. ,\n",
       "        457500. ,  347500. ,  647500. ,  681250. ,  685000. ,  237500. ,\n",
       "        812500. ,  450000. ,  360000. ,  237500. ,  315000. ,  189750. ,\n",
       "        569500. , 1300000. ,  192500. ,  282500. ,  425000. ,  245000. ,\n",
       "        542000. ,  592500. ,  277000. ,  332000. ,  372500. ,  677500. ,\n",
       "        177250. ,  262500. ,  175000. , 3590000. ,  472000. ,  250000. ,\n",
       "       3869957.5, 1099500. ,  384500. ,  654000. ,  382000. , 3869957.5,\n",
       "        309500. ,  312250. ,  205500. ,  537000. ,  432000. ,  407500. ,\n",
       "        182500. ,  270000. ,  387500. ,  332000. ,  412500. , 1122500. ,\n",
       "        440000. ,  422000. ,  179824. ,  362500. ,  187250. ,  220000. ,\n",
       "        275000. ,  282500. , 1042500. ,  257250. ,  325000. ,  290000. ,\n",
       "        354000. ,  325000. , 1037500. ,  872500. ,  444513. ,  264000. ,\n",
       "        252500. ,  284500. , 1999500. ,  449500. , 1347500. ,  205500. ,\n",
       "        517000. ,  167500. ,  425000. ,  160000. ,  417750. ,  487000. ,\n",
       "        474500. ,  417000. ,  249000. ,  537500. ,  787000. ,  962505.5,\n",
       "        262500. ,  282500. , 1273625. ,  207500. ,  360000. ,  317000. ,\n",
       "        402000. , 1735000. ,  203750. ,  570000. ,  175000. ,  611950. ,\n",
       "        350000. ,  599500. ,  350000. ,  685000. ,  405000. ,  282500. ,\n",
       "        342000. ,  350000. ,  482500. ,  234500. ,  444500. ,  322500. ,\n",
       "        160000. ,  379500. ,  706250. ,  999500. , 1130936.5,  919500. ,\n",
       "        375000. ,  350000. ,  557500. ,  241250. , 1719500. ,  986500. ,\n",
       "        185000. ,  272500. , 1269500. ,  305000. ,  297000. ,  547500. ,\n",
       "        637500. ,  650000. , 1005000. ,  425000. , 1025000. ,  292500. ,\n",
       "        812000. ,  202000. ,  909057. ,  595000. ,  267500. ,  512732. ,\n",
       "        439500. ,  459500. ,  382500. ,  224500. ,  176500. ,  442000. ,\n",
       "        337500. ,  297000. ,  612500. ,  254500. ,  542000. ,  332500. ,\n",
       "        319500. ,  442000. ,  402500. ,  257425. ,  361500. ,  537200. ,\n",
       "        337500. ,  515000. ,  288750. ,  449500. ,  267000. ,  230000. ,\n",
       "       2750000. ,  194500. ,  800000. ,  772500. , 1375000. ,  335000. ,\n",
       "        627500. ,  140500. ,  477732. ,  425000. ,  572500. ,  405000. ,\n",
       "        649000. ,  450000. ,  220339.5,  800000. ,  235000. , 1100000. ,\n",
       "        450000. ,  392250. ,  325000. ,  250000. ,  686950. ,  204000. ,\n",
       "        909057. ,  375000. ,  620000. ,  247000. ,  367500. ])"
      ]
     },
     "execution_count": 30,
     "metadata": {},
     "output_type": "execute_result"
    }
   ],
   "source": [
    "#Validate Data\n",
    "pred=model_train.predict(x_test)\n",
    "pred"
   ]
  },
  {
   "cell_type": "code",
   "execution_count": 31,
   "id": "3dd0a7e6",
   "metadata": {},
   "outputs": [
    {
     "data": {
      "text/plain": [
       "0.8257723042412227"
      ]
     },
     "execution_count": 31,
     "metadata": {},
     "output_type": "execute_result"
    }
   ],
   "source": [
    "#Check the accuracy of model\n",
    "r2_score(y_test,pred)"
   ]
  },
  {
   "cell_type": "code",
   "execution_count": 32,
   "id": "0b431c7c",
   "metadata": {},
   "outputs": [],
   "source": [
    "#The prediction from the KNN Regression is around 84%"
   ]
  },
  {
   "cell_type": "code",
   "execution_count": 33,
   "id": "f56b3757",
   "metadata": {},
   "outputs": [
    {
     "data": {
      "text/plain": [
       "63649237788.564384"
      ]
     },
     "execution_count": 33,
     "metadata": {},
     "output_type": "execute_result"
    }
   ],
   "source": [
    "mean_squared_error(y_test,pred)"
   ]
  },
  {
   "cell_type": "code",
   "execution_count": 34,
   "id": "8e2a81c1",
   "metadata": {},
   "outputs": [
    {
     "data": {
      "text/plain": [
       "252288.005637534"
      ]
     },
     "execution_count": 34,
     "metadata": {},
     "output_type": "execute_result"
    }
   ],
   "source": [
    "sqrt(mean_squared_error(y_test,pred))"
   ]
  },
  {
   "cell_type": "markdown",
   "id": "97f7d86d",
   "metadata": {},
   "source": [
    "# Saving of Model"
   ]
  },
  {
   "cell_type": "code",
   "execution_count": 35,
   "id": "31ff6256",
   "metadata": {},
   "outputs": [
    {
     "data": {
      "text/plain": [
       "['KNN_regV2.sav']"
      ]
     },
     "execution_count": 35,
     "metadata": {},
     "output_type": "execute_result"
    }
   ],
   "source": [
    "joblib.dump(model,'KNN_regV2.sav')"
   ]
  },
  {
   "cell_type": "code",
   "execution_count": null,
   "id": "8e29b681",
   "metadata": {},
   "outputs": [],
   "source": []
  }
 ],
 "metadata": {
  "kernelspec": {
   "display_name": "Python 3 (ipykernel)",
   "language": "python",
   "name": "python3"
  },
  "language_info": {
   "codemirror_mode": {
    "name": "ipython",
    "version": 3
   },
   "file_extension": ".py",
   "mimetype": "text/x-python",
   "name": "python",
   "nbconvert_exporter": "python",
   "pygments_lexer": "ipython3",
   "version": "3.11.5"
  }
 },
 "nbformat": 4,
 "nbformat_minor": 5
}
