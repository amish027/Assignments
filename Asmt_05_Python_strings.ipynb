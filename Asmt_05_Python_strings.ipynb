{
 "cells": [
  {
   "cell_type": "markdown",
   "id": "5acf4d39",
   "metadata": {},
   "source": [
    "Q1- Write a Python program to calculate the length of a string.\n",
    "\n"
   ]
  },
  {
   "cell_type": "code",
   "execution_count": 1,
   "id": "18560611",
   "metadata": {},
   "outputs": [
    {
     "name": "stdout",
     "output_type": "stream",
     "text": [
      "Length of String = 10\n"
     ]
    }
   ],
   "source": [
    "s = \"Tutor Joes\"\n",
    "length = len(s)\n",
    "print(\"Length of String =\", length)\n"
   ]
  },
  {
   "cell_type": "code",
   "execution_count": null,
   "id": "5cdbcc38",
   "metadata": {},
   "outputs": [],
   "source": []
  },
  {
   "cell_type": "markdown",
   "id": "58aebf20",
   "metadata": {},
   "source": [
    "Q2- Write a Python program to count the number of characters (character frequency) in a string."
   ]
  },
  {
   "cell_type": "code",
   "execution_count": 10,
   "id": "98a7adec",
   "metadata": {},
   "outputs": [
    {
     "name": "stdout",
     "output_type": "stream",
     "text": [
      "{'t': 2, 'u': 1, 'o': 2, 'r': 1, 'j': 1, 'e': 1, 's': 1}\n"
     ]
    }
   ],
   "source": [
    "s = \"tutorjoes\"\n",
    "\n",
    "freq = {}\n",
    "for char in s:\n",
    "    if char in freq:\n",
    "        freq[char] += 1\n",
    "    else:\n",
    "        freq[char] = 1\n",
    "print(freq)\n"
   ]
  },
  {
   "cell_type": "code",
   "execution_count": null,
   "id": "a14bf4e7",
   "metadata": {},
   "outputs": [],
   "source": []
  },
  {
   "cell_type": "markdown",
   "id": "c97d16dc",
   "metadata": {},
   "source": [
    "Q3-. Write a Python program to get a string from a given string where all occurrences of its first char have been changed to '@', except the first char itself."
   ]
  },
  {
   "cell_type": "code",
   "execution_count": 5,
   "id": "f07d3ab6",
   "metadata": {},
   "outputs": [
    {
     "name": "stdout",
     "output_type": "stream",
     "text": [
      "NEw String = tu@or joes\n"
     ]
    }
   ],
   "source": [
    "s = \"tutor joes\"\n",
    "first_char = s[0]\n",
    "rest_of_string = s[1:].replace(first_char, '@')\n",
    "new_string = first_char + rest_of_string\n",
    "\n",
    "print(\"NEw String =\", new_string)\n"
   ]
  },
  {
   "cell_type": "code",
   "execution_count": null,
   "id": "01a46f24",
   "metadata": {},
   "outputs": [],
   "source": []
  },
  {
   "cell_type": "markdown",
   "id": "fdada634",
   "metadata": {},
   "source": [
    "Q4- Write a Python program to get a single string from two given strings, separated by a space and swap the first two characters of each string."
   ]
  },
  {
   "cell_type": "code",
   "execution_count": 13,
   "id": "dbb8eae8",
   "metadata": {},
   "outputs": [
    {
     "name": "stdout",
     "output_type": "stream",
     "text": [
      "Before Swap = Hi Everyone\n",
      "After Swap = Ev Hieryone\n"
     ]
    }
   ],
   "source": [
    "s1 = \"Hi\"\n",
    "s2 = \"Everyone\"\n",
    "new_s1 = s2[:2] + s1[2:]\n",
    "new_s2 = s1[:2] + s2[2:]\n",
    "\n",
    "result = new_s1 + \" \" + new_s2\n",
    "print(\"Before Swap =\", s1, s2)\n",
    "print(\"After Swap =\", result)\n"
   ]
  },
  {
   "cell_type": "code",
   "execution_count": null,
   "id": "060588ee",
   "metadata": {},
   "outputs": [],
   "source": []
  },
  {
   "cell_type": "markdown",
   "id": "f983901d",
   "metadata": {},
   "source": [
    "Q5-. Write a Python program to remove the nth index character from a nonempty string.\n",
    "Sample Output\n"
   ]
  },
  {
   "cell_type": "code",
   "execution_count": 15,
   "id": "9ca342b0",
   "metadata": {},
   "outputs": [
    {
     "name": "stdout",
     "output_type": "stream",
     "text": [
      "Before Removing = Tutor Joes\n",
      "Removed character = u\n",
      "After Removing = Ttor Joes\n"
     ]
    }
   ],
   "source": [
    "s = \"Tutor Joes\"\n",
    "index = 1\n",
    "new_string = s[:index] + s[index + 1:]\n",
    "\n",
    "print(\"Before Removing =\", s)\n",
    "print(\"Removed character =\", s[index])\n",
    "print(\"After Removing =\", new_string)\n"
   ]
  },
  {
   "cell_type": "code",
   "execution_count": null,
   "id": "bac402a4",
   "metadata": {},
   "outputs": [],
   "source": []
  },
  {
   "cell_type": "markdown",
   "id": "126c2e2f",
   "metadata": {},
   "source": [
    "Q6-Write a Python program to change a given string to a new string where the first and last chars have been exchanged"
   ]
  },
  {
   "cell_type": "code",
   "execution_count": 19,
   "id": "31a2e805",
   "metadata": {},
   "outputs": [
    {
     "name": "stdout",
     "output_type": "stream",
     "text": [
      "Before Exchanging = Assignments\n",
      "After the  Exchange = sssignmentA\n"
     ]
    }
   ],
   "source": [
    "s = \"Assignments\"\n",
    "if len(s) < 2:\n",
    "    new_string = s\n",
    "else:\n",
    "    new_string = s[-1] + s[1:-1] + s[0]\n",
    "print(\"Before Exchanging =\", s)\n",
    "print(\"After the  Exchange =\", new_string)\n"
   ]
  },
  {
   "cell_type": "code",
   "execution_count": null,
   "id": "4ecb720c",
   "metadata": {},
   "outputs": [],
   "source": []
  },
  {
   "cell_type": "markdown",
   "id": "e6416b3d",
   "metadata": {},
   "source": [
    "Q7-Write a Python program to remove the characters which have odd index values of a given string"
   ]
  },
  {
   "cell_type": "code",
   "execution_count": 21,
   "id": "ca35ba61",
   "metadata": {},
   "outputs": [
    {
     "name": "stdout",
     "output_type": "stream",
     "text": [
      "String = Completingg Assignments\n",
      "Remove Odd Index Char = CmltngAsgmns\n"
     ]
    }
   ],
   "source": [
    "s = \"Completingg Assignments\"\n",
    "new_string = s[::2]\n",
    "print(\"String =\", s)\n",
    "print(\"Remove Odd Index Char =\", new_string)\n"
   ]
  },
  {
   "cell_type": "code",
   "execution_count": null,
   "id": "c41840eb",
   "metadata": {},
   "outputs": [],
   "source": []
  },
  {
   "cell_type": "markdown",
   "id": "fdba39ea",
   "metadata": {},
   "source": [
    "Q8- Write a Python program to count the occurrences of each word in a given sentence"
   ]
  },
  {
   "cell_type": "code",
   "execution_count": 24,
   "id": "22bafec3",
   "metadata": {},
   "outputs": [
    {
     "name": "stdout",
     "output_type": "stream",
     "text": [
      "{'To': 2, 'get': 1, 'a': 1, 'good': 1, 'job.': 1, 'YOu': 1, 'have': 1, 'work': 1, 'hard': 1}\n"
     ]
    }
   ],
   "source": [
    "sentence = \"To get a good job. YOu have To work hard\"\n",
    "words = sentence.split()\n",
    "freq = {}\n",
    "for word in words:\n",
    "    if word in freq:\n",
    "        freq[word] += 1\n",
    "    else:\n",
    "        freq[word] = 1\n",
    "print(freq)\n"
   ]
  },
  {
   "cell_type": "code",
   "execution_count": null,
   "id": "45422413",
   "metadata": {},
   "outputs": [],
   "source": []
  },
  {
   "cell_type": "markdown",
   "id": "05cec96e",
   "metadata": {},
   "source": [
    "Q9-Write a Python script that takes input from the user and displays that input back in upper and lower cases."
   ]
  },
  {
   "cell_type": "code",
   "execution_count": 13,
   "id": "cc353e85",
   "metadata": {},
   "outputs": [
    {
     "name": "stdout",
     "output_type": "stream",
     "text": [
      "Uppercase = TUTOR JOES\n",
      "Lowercase = tutor joes\n"
     ]
    }
   ],
   "source": [
    "s = \"Tutor Joes\"\n",
    "upper = s.upper()\n",
    "lower = s.lower()\n",
    "print(\"Uppercase =\", upper)\n",
    "print(\"Lowercase =\", lower)\n"
   ]
  },
  {
   "cell_type": "code",
   "execution_count": null,
   "id": "129e5422",
   "metadata": {},
   "outputs": [],
   "source": []
  },
  {
   "cell_type": "markdown",
   "id": "24222374",
   "metadata": {},
   "source": [
    "Q10- Write a Python function to reverses a string if it's length is a multiple of 4."
   ]
  },
  {
   "cell_type": "code",
   "execution_count": 16,
   "id": "12a5fa93",
   "metadata": {},
   "outputs": [
    {
     "name": "stdout",
     "output_type": "stream",
     "text": [
      "Entre String = Computer\n",
      "If  length is  multiple of 4 = retupmoC\n"
     ]
    }
   ],
   "source": [
    "def reverse_if_multiple_of_4(s):\n",
    "    if len(s) % 4 == 0:\n",
    "        return s[::-1]\n",
    "    return s\n",
    "\n",
    "\n",
    "s = \"Computer\"\n",
    "print(\"Entre String =\", s)\n",
    "print(\"If  length is  multiple of 4 =\", reverse_if_multiple_of_4(s))\n"
   ]
  },
  {
   "cell_type": "code",
   "execution_count": null,
   "id": "bb647dea",
   "metadata": {},
   "outputs": [],
   "source": []
  },
  {
   "cell_type": "markdown",
   "id": "1cffa8fa",
   "metadata": {},
   "source": [
    "Q11- Write a Python program to remove a newline in Python."
   ]
  },
  {
   "cell_type": "code",
   "execution_count": 18,
   "id": "abad1a92",
   "metadata": {},
   "outputs": [
    {
     "name": "stdout",
     "output_type": "stream",
     "text": [
      "Before (\\n)\n",
      "\n",
      "Tutor \n",
      "Joes \n",
      "Computer \n",
      "Education\n",
      "\n",
      "After Remove NewLine(\\n) =  Tutor  Joes  Computer  Education \n"
     ]
    }
   ],
   "source": [
    "def remove_newlines(s):\n",
    "    return s.replace(\"\\n\", \" \")\n",
    "\n",
    "\n",
    "s = \"\\nTutor \\nJoes \\nComputer \\nEducation\\n\"\n",
    "print(\"Before (\\\\n)\")\n",
    "print(s)\n",
    "print(\"After Remove NewLine(\\\\n) =\", remove_newlines(s))\n"
   ]
  },
  {
   "cell_type": "code",
   "execution_count": null,
   "id": "d9bc0879",
   "metadata": {},
   "outputs": [],
   "source": []
  },
  {
   "cell_type": "markdown",
   "id": "e3a1d78c",
   "metadata": {},
   "source": [
    "Q12-Write a Python program to check whether a string starts with specified characters."
   ]
  },
  {
   "cell_type": "code",
   "execution_count": 21,
   "id": "4302edbc",
   "metadata": {},
   "outputs": [
    {
     "name": "stdout",
     "output_type": "stream",
     "text": [
      "Check if input string start with prefix = True\n"
     ]
    }
   ],
   "source": [
    "def starts_with(s, prefix):\n",
    "    return s.startswith(prefix)\n",
    "\n",
    "\n",
    "s = \"Learning Python is easy?\"\n",
    "prefix = \"Le\"\n",
    "print(\"Check if input string start with prefix =\", starts_with(s, prefix))\n"
   ]
  },
  {
   "cell_type": "code",
   "execution_count": null,
   "id": "8b9cd3c9",
   "metadata": {},
   "outputs": [],
   "source": []
  },
  {
   "cell_type": "markdown",
   "id": "66397601",
   "metadata": {},
   "source": [
    "Q13-Write a Python program to remove existing indentation from all of the lines in a given text."
   ]
  },
  {
   "cell_type": "code",
   "execution_count": 23,
   "id": "c37559e5",
   "metadata": {},
   "outputs": [
    {
     "name": "stdout",
     "output_type": "stream",
     "text": [
      "Original  :\n",
      "\n",
      "              Python is an interpreted, object-oriented, high-level programming language\n",
      "              that can be used for a wide variety of applications. Python is a powerful\n",
      "              general-purpose programming language.\n",
      "\n",
      "Dedented text :\n",
      "\n",
      "Python is an interpreted, object-oriented, high-level programming language\n",
      "that can be used for a wide variety of applications. Python is a powerful\n",
      "general-purpose programming language.\n",
      "\n"
     ]
    }
   ],
   "source": [
    "import textwrap\n",
    "\n",
    "def dedent_text(text):\n",
    "    return textwrap.dedent(text)\n",
    "\n",
    "\n",
    "text = \"\"\"\n",
    "              Python is an interpreted, object-oriented, high-level programming language\n",
    "              that can be used for a wide variety of applications. Python is a powerful\n",
    "              general-purpose programming language.\n",
    "\"\"\"\n",
    "print(\"Original  :\")\n",
    "print(text)\n",
    "print(\"Dedented text :\")\n",
    "print(dedent_text(text))\n"
   ]
  },
  {
   "cell_type": "code",
   "execution_count": null,
   "id": "46c1a76c",
   "metadata": {},
   "outputs": [],
   "source": []
  },
  {
   "cell_type": "markdown",
   "id": "7c40d6cc",
   "metadata": {},
   "source": [
    "Q14-Write a Python program to add a prefix text to all of the lines in a string."
   ]
  },
  {
   "cell_type": "code",
   "execution_count": 24,
   "id": "c2686196",
   "metadata": {},
   "outputs": [
    {
     "name": "stdout",
     "output_type": "stream",
     "text": [
      "PREFIX: Python is an interpreted, object-oriented, high-level programming language\n",
      "PREFIX: that can be used for a wide variety of applications. Python is a powerful\n",
      "PREFIX: general-purpose programming language.\n"
     ]
    }
   ],
   "source": [
    "\n",
    "text = \"\"\"Python is an interpreted, object-oriented, high-level programming language\n",
    "that can be used for a wide variety of applications. Python is a powerful\n",
    "general-purpose programming language.\"\"\"\n",
    "\n",
    "\n",
    "prefix = \"PREFIX: \"\n",
    "\n",
    "\n",
    "lines = text.split('\\n')\n",
    "\n",
    "\n",
    "prefixed_lines = [prefix + line for line in lines]\n",
    "\n",
    "\n",
    "prefixed_text = '\\n'.join(prefixed_lines)\n",
    "\n",
    "\n",
    "print(prefixed_text)\n"
   ]
  },
  {
   "cell_type": "code",
   "execution_count": null,
   "id": "1402db0a",
   "metadata": {},
   "outputs": [],
   "source": []
  },
  {
   "cell_type": "markdown",
   "id": "bc9ecd5d",
   "metadata": {},
   "source": [
    "Q15- Write a Python program to remove a newline in Python."
   ]
  },
  {
   "cell_type": "code",
   "execution_count": 25,
   "id": "23c4c52c",
   "metadata": {},
   "outputs": [
    {
     "name": "stdout",
     "output_type": "stream",
     "text": [
      "Before Remove NewLine(\\n)\n",
      "\n",
      "Tutor \n",
      "Joes \n",
      "Computer \n",
      "Education\n",
      "\n",
      "After Remove NewLine(\\n) =  Tutor  Joes  Computer  Education \n"
     ]
    }
   ],
   "source": [
    "s = \"\\nTutor \\nJoes \\nComputer \\nEducation\\n\"\n",
    "new_string = s.replace(\"\\n\", \" \")\n",
    "print(\"Before Remove NewLine(\\\\n)\")\n",
    "print(s)\n",
    "print(\"After Remove NewLine(\\\\n) =\", new_string)\n"
   ]
  },
  {
   "cell_type": "code",
   "execution_count": null,
   "id": "cc00f016",
   "metadata": {},
   "outputs": [],
   "source": []
  }
 ],
 "metadata": {
  "kernelspec": {
   "display_name": "Python 3 (ipykernel)",
   "language": "python",
   "name": "python3"
  },
  "language_info": {
   "codemirror_mode": {
    "name": "ipython",
    "version": 3
   },
   "file_extension": ".py",
   "mimetype": "text/x-python",
   "name": "python",
   "nbconvert_exporter": "python",
   "pygments_lexer": "ipython3",
   "version": "3.11.5"
  }
 },
 "nbformat": 4,
 "nbformat_minor": 5
}
