{
 "cells": [
  {
   "cell_type": "markdown",
   "id": "19b730a2",
   "metadata": {},
   "source": [
    "# Python Exercise"
   ]
  },
  {
   "cell_type": "markdown",
   "id": "55005acf",
   "metadata": {},
   "source": [
    "Q1- Ramesh's basic salary is input through the keyboard. His dearness allowance is 40% of\n",
    "basic salary, and house rent allowance is 20% of basic salary. Write a program to calculate\n",
    "his gross salary."
   ]
  },
  {
   "cell_type": "code",
   "execution_count": 4,
   "id": "c06d9250",
   "metadata": {},
   "outputs": [
    {
     "name": "stdout",
     "output_type": "stream",
     "text": [
      "Enter Ramesh's basic salary: 25000\n",
      "Ramesh's Gross Salary = 40000.0\n"
     ]
    }
   ],
   "source": [
    "\n",
    "basic_salary = int(input(\"Enter Ramesh's basic salary: \"))\n",
    "\n",
    "\n",
    "dearness_allowance = 0.4 * basic_salary\n",
    "house_rent_allowance = 0.2 * basic_salary\n",
    "\n",
    "\n",
    "gross_salary = basic_salary + dearness_allowance + house_rent_allowance\n",
    "\n",
    "\n",
    "print(f\"Ramesh's Gross Salary = {gross_salary}\")\n"
   ]
  },
  {
   "cell_type": "code",
   "execution_count": null,
   "id": "b53f656a",
   "metadata": {},
   "outputs": [],
   "source": []
  },
  {
   "cell_type": "markdown",
   "id": "d625d1b4",
   "metadata": {},
   "source": [
    "Q2-. The distance between two cities (in km.) is input through the keyboard. Write a program\n",
    "to convert and print this distance in meters, feet, inches and centimeters."
   ]
  },
  {
   "cell_type": "code",
   "execution_count": 5,
   "id": "36307e98",
   "metadata": {},
   "outputs": [
    {
     "name": "stdout",
     "output_type": "stream",
     "text": [
      "Enter the distance between two cities in kilometers: 2\n",
      "Distance in meters: 2000 m\n",
      "Distance in feet: 6561.68 ft\n",
      "Distance in inches: 78740.2 inches\n",
      "Distance in centimeters: 200000 cm\n"
     ]
    }
   ],
   "source": [
    "\n",
    "distance_km = int(input(\"Enter the distance between two cities in kilometers: \"))\n",
    "\n",
    "\n",
    "distance_meters = distance_km * 1000\n",
    "distance_feet = distance_km * 3280.84\n",
    "distance_inches = distance_km * 39370.1\n",
    "distance_cm = distance_km * 100000\n",
    "\n",
    "\n",
    "print(f\"Distance in meters: {distance_meters} m\")\n",
    "print(f\"Distance in feet: {distance_feet} ft\")\n",
    "print(f\"Distance in inches: {distance_inches} inches\")\n",
    "print(f\"Distance in centimeters: {distance_cm} cm\")\n"
   ]
  },
  {
   "cell_type": "code",
   "execution_count": null,
   "id": "282670b2",
   "metadata": {},
   "outputs": [],
   "source": []
  },
  {
   "cell_type": "markdown",
   "id": "a616e55d",
   "metadata": {},
   "source": [
    "Q3-If the marks obtained by a student in five different subjects are input through the\n",
    "keyboard, find out the aggregate marks and percentage marks obtained by the student.\n",
    "Assume that the maximum marks that can be obtained by a student in each subject is 100."
   ]
  },
  {
   "cell_type": "code",
   "execution_count": 8,
   "id": "4200a1a2",
   "metadata": {},
   "outputs": [
    {
     "name": "stdout",
     "output_type": "stream",
     "text": [
      "Enter marks for subject 1: 78\n",
      "Enter marks for subject 2: 74\n",
      "Enter marks for subject 3: 79\n",
      "Enter marks for subject 4: 75\n",
      "Enter marks for subject 5: 71\n",
      "Aggregate Marks: 377\n",
      "Percentage Marks: 75.4%\n"
     ]
    }
   ],
   "source": [
    "\n",
    "marks1 = int(input(\"Enter marks for subject 1: \"))\n",
    "marks2 = int(input(\"Enter marks for subject 2: \"))\n",
    "marks3 = int(input(\"Enter marks for subject 3: \"))\n",
    "marks4 = int(input(\"Enter marks for subject 4: \"))\n",
    "marks5 = int(input(\"Enter marks for subject 5: \"))\n",
    "\n",
    "\n",
    "total_marks = marks1 + marks2 + marks3 + marks4 + marks5\n",
    "max_marks_per_subject = 100\n",
    "percentage_marks = (total_marks / (5 * max_marks_per_subject)) * 100\n",
    "\n",
    "\n",
    "print(f\"Aggregate Marks: {total_marks}\")\n",
    "print(f\"Percentage Marks: {percentage_marks}%\")\n"
   ]
  },
  {
   "cell_type": "code",
   "execution_count": null,
   "id": "0fec62a1",
   "metadata": {},
   "outputs": [],
   "source": []
  },
  {
   "cell_type": "markdown",
   "id": "ae9f6499",
   "metadata": {},
   "source": [
    "Q4-Temperature of a city in Fahrenheit degrees is input through the keyboard. Write a\n",
    "program to convert this temperature into Centigrade degrees."
   ]
  },
  {
   "cell_type": "code",
   "execution_count": 9,
   "id": "afff65d2",
   "metadata": {},
   "outputs": [
    {
     "name": "stdout",
     "output_type": "stream",
     "text": [
      "Enter temperature in Fahrenheit: 45\n",
      "Temperature in Celsius: 7.222222222222222 °C\n"
     ]
    }
   ],
   "source": [
    "\n",
    "temp_fahrenheit = int(input(\"Enter temperature in Fahrenheit: \"))\n",
    "\n",
    "\n",
    "temp_celsius = (temp_fahrenheit - 32) * 5/9\n",
    "\n",
    "\n",
    "print(f\"Temperature in Celsius: {temp_celsius} °C\")\n"
   ]
  },
  {
   "cell_type": "code",
   "execution_count": null,
   "id": "94557ab8",
   "metadata": {},
   "outputs": [],
   "source": []
  },
  {
   "cell_type": "markdown",
   "id": "2a4dedeb",
   "metadata": {},
   "source": [
    "Q5- The length & breadth of a rectangle and radius of a circle are input through the\n",
    "keyboard. Write a program to calculate the area & perimeter of the rectangle, and the area\n",
    "& circumference of the circle."
   ]
  },
  {
   "cell_type": "code",
   "execution_count": 10,
   "id": "bcf1d87c",
   "metadata": {},
   "outputs": [
    {
     "name": "stdout",
     "output_type": "stream",
     "text": [
      "Enter length of rectangle: 20\n",
      "Enter breadth of rectangle: 10\n",
      "Enter radius of circle: 5\n",
      "Area of Rectangle: 200\n",
      "Perimeter of Rectangle: 60\n",
      "Area of Circle: 78.53981633974483\n",
      "Circumference of Circle: 31.41592653589793\n"
     ]
    }
   ],
   "source": [
    "import math\n",
    "\n",
    "\n",
    "length = int(input(\"Enter length of rectangle: \"))\n",
    "breadth = int(input(\"Enter breadth of rectangle: \"))\n",
    "radius = int(input(\"Enter radius of circle: \"))\n",
    "\n",
    "\n",
    "area_rectangle = length * breadth\n",
    "perimeter_rectangle = 2 * (length + breadth)\n",
    "\n",
    "\n",
    "area_circle = math.pi * radius ** 2\n",
    "circumference_circle = 2 * math.pi * radius\n",
    "\n",
    "\n",
    "print(f\"Area of Rectangle: {area_rectangle}\")\n",
    "print(f\"Perimeter of Rectangle: {perimeter_rectangle}\")\n",
    "print(f\"Area of Circle: {area_circle}\")\n",
    "print(f\"Circumference of Circle: {circumference_circle}\")"
   ]
  },
  {
   "cell_type": "code",
   "execution_count": null,
   "id": "230f5e4b",
   "metadata": {},
   "outputs": [],
   "source": []
  },
  {
   "cell_type": "markdown",
   "id": "cef67a20",
   "metadata": {},
   "source": [
    "Q6-Two numbers are input through the keyboard into two locations C and D. Write a\n",
    "program to interchange the contents of C and D."
   ]
  },
  {
   "cell_type": "code",
   "execution_count": 11,
   "id": "93b51206",
   "metadata": {},
   "outputs": [
    {
     "name": "stdout",
     "output_type": "stream",
     "text": [
      "Enter the first number C: 5\n",
      "Enter the second number D: 8\n",
      "Value of C after interchange: 8\n",
      "Value of D after interchange: 5\n"
     ]
    }
   ],
   "source": [
    "\n",
    "C = int(input(\"Enter the first number C: \"))\n",
    "D = int(input(\"Enter the second number D: \"))\n",
    "\n",
    "\n",
    "C, D = D, C\n",
    "\n",
    "\n",
    "print(f\"Value of C after interchange: {C}\")\n",
    "print(f\"Value of D after interchange: {D}\")\n"
   ]
  },
  {
   "cell_type": "code",
   "execution_count": null,
   "id": "75c73446",
   "metadata": {},
   "outputs": [],
   "source": []
  },
  {
   "cell_type": "markdown",
   "id": "65e8e628",
   "metadata": {},
   "source": [
    "Q7-If a five-digit number is input through the keyboard, write a program to calculate the\n",
    "sum of its digits. ( Hint: Use the modulus operator '%')"
   ]
  },
  {
   "cell_type": "code",
   "execution_count": 13,
   "id": "2a6440a6",
   "metadata": {},
   "outputs": [
    {
     "name": "stdout",
     "output_type": "stream",
     "text": [
      "Enter a five-digit number: 12345\n",
      "Sum of digits of 12345: 15\n"
     ]
    }
   ],
   "source": [
    "number = input(\"Enter a five-digit number: \")\n",
    "\n",
    "sum_of_digits = sum(int(digit) for digit in number)\n",
    "\n",
    "\n",
    "print(f\"Sum of digits of {number}: {sum_of_digits}\")\n"
   ]
  },
  {
   "cell_type": "code",
   "execution_count": null,
   "id": "2a7f0b3e",
   "metadata": {},
   "outputs": [],
   "source": []
  },
  {
   "cell_type": "markdown",
   "id": "69a572d0",
   "metadata": {},
   "source": [
    "Q8-If a five-digit number is input through the keyboard, write a program to reverse the\n",
    "number"
   ]
  },
  {
   "cell_type": "code",
   "execution_count": 14,
   "id": "0b779a2c",
   "metadata": {},
   "outputs": [
    {
     "name": "stdout",
     "output_type": "stream",
     "text": [
      "Enter a five-digit number: 12345\n",
      "Reversed number of 12345: 54321\n"
     ]
    }
   ],
   "source": [
    "number = input(\"Enter a five-digit number: \")\n",
    "\n",
    "reversed_number = number[::-1]\n",
    "\n",
    "print(f\"Reversed number of {number}: {reversed_number}\")"
   ]
  },
  {
   "cell_type": "code",
   "execution_count": null,
   "id": "2d8c75c4",
   "metadata": {},
   "outputs": [],
   "source": []
  },
  {
   "cell_type": "markdown",
   "id": "1f4f80c2",
   "metadata": {},
   "source": [
    "Q9- If a four-digit number is input through the keyboard, write a program to obtain the sum\n",
    "of the first and last digit of this number."
   ]
  },
  {
   "cell_type": "code",
   "execution_count": 15,
   "id": "64fbeb13",
   "metadata": {},
   "outputs": [
    {
     "name": "stdout",
     "output_type": "stream",
     "text": [
      "Enter a four-digit number: 1234\n",
      "Sum of first and last digit of 1234: 5\n"
     ]
    }
   ],
   "source": [
    "\n",
    "number = input(\"Enter a four-digit number: \")\n",
    "\n",
    "first_digit = int(number[0])\n",
    "last_digit = int(number[-1])\n",
    "\n",
    "\n",
    "sum_first_last = first_digit + last_digit\n",
    "\n",
    "print(f\"Sum of first and last digit of {number}: {sum_first_last}\")\n"
   ]
  },
  {
   "cell_type": "code",
   "execution_count": null,
   "id": "5707e6df",
   "metadata": {},
   "outputs": [],
   "source": []
  },
  {
   "cell_type": "code",
   "execution_count": null,
   "id": "d34767aa",
   "metadata": {},
   "outputs": [],
   "source": []
  },
  {
   "cell_type": "markdown",
   "id": "72eb50fc",
   "metadata": {},
   "source": [
    "Q10-   A company insures its drivers in the following cases:\n",
    "\n",
    " a. If the driver is married.\n",
    " \n",
    " b. If the driver is unmarried, male & above 30 years of age.\n",
    " \n",
    " c. If the driver is unmarried, female & above 25 years of age.\n",
    " "
   ]
  },
  {
   "cell_type": "code",
   "execution_count": 16,
   "id": "e16b557b",
   "metadata": {},
   "outputs": [
    {
     "name": "stdout",
     "output_type": "stream",
     "text": [
      "Enter  mrital status : unmarried\n",
      "Enter the gender: male\n",
      "Enter age of the driver: 31\n",
      "The driver is insured.\n"
     ]
    }
   ],
   "source": [
    "\n",
    "marital_status = input(\"Enter  mrital status : \")\n",
    "gender = input(\"Enter the gender: \")\n",
    "age = int(input(\"Enter age of the driver: \"))\n",
    "\n",
    "\n",
    "if marital_status == \"married\":\n",
    "    insured = True\n",
    "elif marital_status == \"unmarried\":\n",
    "    if gender == \"male\" and age > 30:\n",
    "        insured = True\n",
    "    elif gender == \"female\" and age > 25:\n",
    "        insured = True\n",
    "    else:\n",
    "        insured = False\n",
    "else:\n",
    "    insured = False\n",
    "\n",
    "if insured:\n",
    "    print(\"The driver is insured.\")\n",
    "else:\n",
    "    print(\"The driver is not insured.\")\n"
   ]
  },
  {
   "cell_type": "code",
   "execution_count": null,
   "id": "5be8308c",
   "metadata": {},
   "outputs": [],
   "source": []
  },
  {
   "cell_type": "markdown",
   "id": "6270a446",
   "metadata": {},
   "source": [
    "Q11-The marks obtained by a student in 5 different subjects are input through the keyboard.\n",
    "The student gets a division as per the following rules: Write a program to calculate the\n",
    "division obtained by the student.\n",
    "\n",
    "a. Percentage above or equal to 60 - First division\n",
    "\n",
    "b. Percentage between 50 and 59 - Second division\n",
    "\n",
    "c. Percentage between 40 and 49 - Third division\n",
    "\n",
    "d. Percentage less than 40 - Fail"
   ]
  },
  {
   "cell_type": "code",
   "execution_count": 18,
   "id": "6ea51942",
   "metadata": {},
   "outputs": [
    {
     "name": "stdout",
     "output_type": "stream",
     "text": [
      "Enter marks for subject 1: 78\n",
      "Enter marks for subject 2: 74\n",
      "Enter marks for subject 3: 76\n",
      "Enter marks for subject 4: 73\n",
      "Enter marks for subject 5: 70\n",
      "Total Marks: 371\n",
      "Percentage: 74.20%\n",
      "Division: First division\n"
     ]
    }
   ],
   "source": [
    "\n",
    "marks1 = int(input(\"Enter marks for subject 1: \"))\n",
    "marks2 = int(input(\"Enter marks for subject 2: \"))\n",
    "marks3 = int(input(\"Enter marks for subject 3: \"))\n",
    "marks4 = int(input(\"Enter marks for subject 4: \"))\n",
    "marks5 = int(input(\"Enter marks for subject 5: \"))\n",
    "\n",
    "\n",
    "total_marks = marks1 + marks2 + marks3 + marks4 + marks5\n",
    "percentage = (total_marks / 500) * 100\n",
    "\n",
    "\n",
    "if percentage >= 60:\n",
    "    division = \"First division\"\n",
    "elif percentage >= 50:\n",
    "    division = \"Second division\"\n",
    "elif percentage >= 40:\n",
    "    division = \"Third division\"\n",
    "else:\n",
    "    division = \"Fail\"\n",
    "\n",
    "print(f\"Total Marks: {total_marks}\")\n",
    "print(f\"Percentage: {percentage:.2f}%\")\n",
    "print(f\"Division: {division}\")\n"
   ]
  },
  {
   "cell_type": "code",
   "execution_count": null,
   "id": "5c6f1ce5",
   "metadata": {},
   "outputs": [],
   "source": []
  },
  {
   "cell_type": "markdown",
   "id": "7eaf9a95",
   "metadata": {},
   "source": [
    "Q12-  Any integer is input through the keyboard. Write a program to find out whether it is an\n",
    "odd number or even number. (Hint: Use the % (modulus) operator)"
   ]
  },
  {
   "cell_type": "code",
   "execution_count": 20,
   "id": "623d6b23",
   "metadata": {},
   "outputs": [
    {
     "name": "stdout",
     "output_type": "stream",
     "text": [
      "Enter an integer: 4\n",
      "4 is an even number.\n"
     ]
    }
   ],
   "source": [
    "number = int(input(\"Enter an integer: \"))\n",
    "\n",
    "\n",
    "if number % 2 == 0:\n",
    "    print(f\"{number} is an even number.\")\n",
    "else:\n",
    "    print(f\"{number} is an odd number.\")\n"
   ]
  },
  {
   "cell_type": "code",
   "execution_count": null,
   "id": "fec9add4",
   "metadata": {},
   "outputs": [],
   "source": []
  },
  {
   "cell_type": "markdown",
   "id": "46d124bd",
   "metadata": {},
   "source": [
    " Q13 - A five-digit number is entered through the keyboard. Write a program to obtain the\n",
    "reversed number and to determine whether the original and reversed numbers are equal\n",
    "or not."
   ]
  },
  {
   "cell_type": "code",
   "execution_count": 22,
   "id": "43050d58",
   "metadata": {},
   "outputs": [
    {
     "name": "stdout",
     "output_type": "stream",
     "text": [
      "Enter a five-digit number: 99899\n",
      "The original number 99899 and the reversed number 99899 are equal.\n"
     ]
    }
   ],
   "source": [
    "\n",
    "number = input(\"Enter a five-digit number: \")\n",
    "\n",
    "\n",
    "reversed_number = number[::-1]\n",
    "\n",
    "\n",
    "if number == reversed_number:\n",
    "    print(f\"The original number {number} and the reversed number {reversed_number} are equal.\")\n",
    "else:\n",
    "    print(f\"The original number {number} and the reversed number {reversed_number} are not equal.\")\n"
   ]
  },
  {
   "cell_type": "code",
   "execution_count": null,
   "id": "f686a59d",
   "metadata": {},
   "outputs": [],
   "source": []
  },
  {
   "cell_type": "markdown",
   "id": "1224e742",
   "metadata": {},
   "source": [
    "Q14 - If the ages of Ram, Shyam and Ajay are input through the keyboard, write a program to\n",
    "determine the youngest of the three."
   ]
  },
  {
   "cell_type": "code",
   "execution_count": 23,
   "id": "6ffdd915",
   "metadata": {},
   "outputs": [
    {
     "name": "stdout",
     "output_type": "stream",
     "text": [
      "Enter the age of Ram: 28\n",
      "Enter the age of Shyam: 29\n",
      "Enter the age of Ajay: 30\n",
      "The youngest among Ram, Shyam, and Ajay is: Ram\n"
     ]
    }
   ],
   "source": [
    "\n",
    "age_ram = int(input(\"Enter the age of Ram: \"))\n",
    "age_shyam = int(input(\"Enter the age of Shyam: \"))\n",
    "age_ajay = int(input(\"Enter the age of Ajay: \"))\n",
    "\n",
    "\n",
    "if age_ram < age_shyam and age_ram < age_ajay:\n",
    "    youngest = \"Ram\"\n",
    "elif age_shyam < age_ram and age_shyam < age_ajay:\n",
    "    youngest = \"Shyam\"\n",
    "else:\n",
    "    youngest = \"Ajay\"\n",
    "\n",
    "print(f\"The youngest among Ram, Shyam, and Ajay is: {youngest}\")\n"
   ]
  },
  {
   "cell_type": "code",
   "execution_count": null,
   "id": "130bccc2",
   "metadata": {},
   "outputs": [],
   "source": []
  },
  {
   "cell_type": "code",
   "execution_count": null,
   "id": "3f39f810",
   "metadata": {},
   "outputs": [],
   "source": []
  },
  {
   "cell_type": "markdown",
   "id": "318a6f2a",
   "metadata": {},
   "source": [
    "Q 15 - A certain grade of steel is graded according to the following conditions:\n",
    "\n",
    "i. Hardness must be greater than 50\n",
    "\n",
    "ii. Carbon content must be less than 0.7\n",
    "\n",
    "iii. Tensile strength must be greater than 5600\n",
    "\n",
    "\n",
    "The grades are as follows:\n",
    "\n",
    "i. Grade is 10 if all three conditions are met\n",
    "\n",
    "ii. Grade is 9 if conditions (i) and (ii) are met\n",
    "\n",
    "iii. Grade is 8 if conditions (ii) and (iii) are met\n",
    "\n",
    "iv. Grade is 7 if conditions (i) and (iii) are met\n",
    "\n",
    "v. Grade is 6 if only one condition is met\n",
    "\n",
    "vi. Grade is 5 if none of the conditions are met\n",
    "\n",
    "Write a program, which will require the user to give values of hardness, carbon content and\n",
    "tensile strength of the steel under consideration and output the grade of the steel.\n"
   ]
  },
  {
   "cell_type": "code",
   "execution_count": 27,
   "id": "ab60b711",
   "metadata": {},
   "outputs": [
    {
     "name": "stdout",
     "output_type": "stream",
     "text": [
      "Enter the hardness of the steel: 75\n",
      "Enter the carbon content of the steel: 7\n",
      "Enter the tensile strength of the steel: 5000\n",
      "The grade of the steel is: 6\n"
     ]
    }
   ],
   "source": [
    "hardness = int(input(\"Enter the hardness of the steel: \"))\n",
    "carbon_content = int(input(\"Enter the carbon content of the steel: \"))\n",
    "tensile_strength = int(input(\"Enter the tensile strength of the steel: \"))\n",
    "\n",
    "\n",
    "if hardness > 50 and carbon_content < 0.7 and tensile_strength > 5600:\n",
    "    grade = 10\n",
    "elif hardness > 50 and carbon_content < 0.7:\n",
    "    grade = 9\n",
    "elif carbon_content < 0.7 and tensile_strength > 5600:\n",
    "    grade = 8\n",
    "elif hardness > 50 and tensile_strength > 5600:\n",
    "    grade = 7\n",
    "elif hardness > 50 or carbon_content < 0.7 or tensile_strength > 5600:\n",
    "    grade = 6\n",
    "else:\n",
    "    grade = 5\n",
    "\n",
    "\n",
    "print(f\"The grade of the steel is: {grade}\")\n"
   ]
  },
  {
   "cell_type": "code",
   "execution_count": null,
   "id": "ad597734",
   "metadata": {},
   "outputs": [],
   "source": []
  },
  {
   "cell_type": "markdown",
   "id": "0ad378e2",
   "metadata": {},
   "source": [
    "Q16 - Two numbers are entered through the keyboard. Write a program to find the value of\n",
    "one number raised to the power of another."
   ]
  },
  {
   "cell_type": "code",
   "execution_count": 28,
   "id": "62b714d2",
   "metadata": {},
   "outputs": [
    {
     "name": "stdout",
     "output_type": "stream",
     "text": [
      "Enter the base number: 4\n",
      "Enter the exponent: 2\n",
      "4 raised to the power of 2 is 16\n"
     ]
    }
   ],
   "source": [
    "base = int(input(\"Enter the base number: \"))\n",
    "exponent = int(input(\"Enter the exponent: \"))\n",
    "\n",
    "\n",
    "result = base ** exponent\n",
    "\n",
    "\n",
    "print(f\"{base} raised to the power of {exponent} is {result}\")"
   ]
  },
  {
   "cell_type": "code",
   "execution_count": null,
   "id": "f6f01658",
   "metadata": {},
   "outputs": [],
   "source": []
  },
  {
   "cell_type": "markdown",
   "id": "5f47a348",
   "metadata": {},
   "source": [
    "Q17 - Write a program to find the factorial of the given number."
   ]
  },
  {
   "cell_type": "code",
   "execution_count": 29,
   "id": "99ef9b99",
   "metadata": {},
   "outputs": [
    {
     "name": "stdout",
     "output_type": "stream",
     "text": [
      "Enter a number to find its factorial: 5\n",
      "The factorial of 5 is 120\n"
     ]
    }
   ],
   "source": [
    "\n",
    "number = int(input(\"Enter a number to find its factorial: \"))\n",
    "\n",
    "\n",
    "factorial = 1\n",
    "\n",
    "for i in range(1, number + 1):\n",
    "    factorial *= i\n",
    "\n",
    "\n",
    "print(f\"The factorial of {number} is {factorial}\")"
   ]
  },
  {
   "cell_type": "code",
   "execution_count": null,
   "id": "bdf1a589",
   "metadata": {},
   "outputs": [],
   "source": []
  },
  {
   "cell_type": "markdown",
   "id": "f56e80a0",
   "metadata": {},
   "source": [
    "Q18 - Write a program to find the given number is perfect number"
   ]
  },
  {
   "cell_type": "code",
   "execution_count": 36,
   "id": "662b6a5d",
   "metadata": {},
   "outputs": [
    {
     "name": "stdout",
     "output_type": "stream",
     "text": [
      "Enter a number to check if it is  perfect number: 6\n",
      "6 is a perfect number.\n"
     ]
    }
   ],
   "source": [
    "number = int(input(\"Enter a number to check if it is  perfect number: \"))\n",
    "\n",
    "\n",
    "sum_of_divisors = 0\n",
    "\n",
    "\n",
    "for i in range(1, number):\n",
    "    if number % i == 0:\n",
    "        sum_of_divisors += i\n",
    "\n",
    "\n",
    "if sum_of_divisors == number:\n",
    "    print(f\"{number} is a perfect number.\")\n",
    "else:\n",
    "    print(f\"{number} is not a perfect number.\")"
   ]
  },
  {
   "cell_type": "code",
   "execution_count": null,
   "id": "954d8ba6",
   "metadata": {},
   "outputs": [],
   "source": []
  },
  {
   "cell_type": "markdown",
   "id": "0fe7ecc1",
   "metadata": {},
   "source": [
    "Q19 - Write a program to print the perfect number between 1-1000"
   ]
  },
  {
   "cell_type": "code",
   "execution_count": 37,
   "id": "1909833a",
   "metadata": {},
   "outputs": [
    {
     "name": "stdout",
     "output_type": "stream",
     "text": [
      "Perfect numbers between 1 and 1000 are:\n",
      "6\n",
      "28\n",
      "496\n"
     ]
    }
   ],
   "source": [
    "print(\"Perfect numbers between 1 and 1000 are:\")\n",
    "for num in range(1, 1001):\n",
    "    \n",
    "    sum_of_divisors = 0\n",
    "    \n",
    "    \n",
    "    for i in range(1, num):\n",
    "        if num % i == 0:\n",
    "            sum_of_divisors += i\n",
    "    \n",
    "    if sum_of_divisors == num:\n",
    "        print(num)\n"
   ]
  },
  {
   "cell_type": "code",
   "execution_count": null,
   "id": "2af5557f",
   "metadata": {},
   "outputs": [],
   "source": []
  },
  {
   "cell_type": "markdown",
   "id": "c16d36df",
   "metadata": {},
   "source": [
    "Q20 - Two numbers are entered through the keyboard. Write a program to find the value of\n",
    "one number raised to the power of another."
   ]
  },
  {
   "cell_type": "code",
   "execution_count": 42,
   "id": "09c11d04",
   "metadata": {},
   "outputs": [
    {
     "name": "stdout",
     "output_type": "stream",
     "text": [
      "Enter the base number: 2\n",
      "Enter the exponent: 8\n",
      "2 raised to the power of 8 is 256\n"
     ]
    }
   ],
   "source": [
    "\n",
    "base = int(input(\"Enter the base number: \"))\n",
    "exponent = int(input(\"Enter the exponent: \"))\n",
    "\n",
    "\n",
    "result = base ** exponent\n",
    "\n",
    "\n",
    "print(f\"{base} raised to the power of {exponent} is {result}\")\n"
   ]
  },
  {
   "cell_type": "code",
   "execution_count": null,
   "id": "1960e2da",
   "metadata": {},
   "outputs": [],
   "source": []
  }
 ],
 "metadata": {
  "kernelspec": {
   "display_name": "Python 3 (ipykernel)",
   "language": "python",
   "name": "python3"
  },
  "language_info": {
   "codemirror_mode": {
    "name": "ipython",
    "version": 3
   },
   "file_extension": ".py",
   "mimetype": "text/x-python",
   "name": "python",
   "nbconvert_exporter": "python",
   "pygments_lexer": "ipython3",
   "version": "3.11.5"
  }
 },
 "nbformat": 4,
 "nbformat_minor": 5
}
